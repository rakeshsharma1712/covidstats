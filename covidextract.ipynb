{
 "cells": [
  {
   "cell_type": "markdown",
   "id": "0d581d73",
   "metadata": {},
   "source": [
    "# This code read prev day excel and compares with web site. Finally, it creates an outout excel in desired format"
   ]
  },
  {
   "cell_type": "code",
   "execution_count": 1,
   "id": "8f8af305",
   "metadata": {},
   "outputs": [],
   "source": [
    "import requests\n",
    "import bs4\n",
    "from bs4 import BeautifulSoup \n",
    "import xlsxwriter\n",
    "import pandas as pd\n",
    "from datetime import date\n",
    "from datetime import timedelta"
   ]
  },
  {
   "cell_type": "code",
   "execution_count": 2,
   "id": "43ffaef9",
   "metadata": {},
   "outputs": [],
   "source": [
    "#Create file name for yesterday\n",
    "today = date.today()\n",
    "yesterday = today - timedelta(days = 1)\n",
    "d0 = yesterday.strftime(\"%b-%d-%Y\")\n",
    "file_yesterday = 'Covid_Data_' + d0 + '.xlsx'\n",
    "\n",
    "#Read yesterday's file\n",
    "input = pd.read_excel(file_yesterday)  \n"
   ]
  },
  {
   "cell_type": "code",
   "execution_count": 3,
   "id": "f163d87a",
   "metadata": {},
   "outputs": [],
   "source": [
    "states_prev = input['St. Name'].tolist()\n",
    "date_prev = input['Date'].tolist()\n",
    "total_cases_prev = input['Total Cases'].tolist()\n",
    "total_inc_prev = input['Total Inc'].tolist()\n",
    "active_cases_prev  = input['Active Cases'].tolist()\n",
    "active_inc_prev = input['Active Inc'].tolist()\n",
    "discharged_cases_prev  = input['Discharged Cases'].tolist()\n",
    "discharged_inc_prev = input['Discharged Inc'].tolist()\n",
    "death_cases_prev  = input['Death'].tolist()\n",
    "death_inc_prev = input['Death Inc'].tolist()\n"
   ]
  },
  {
   "cell_type": "code",
   "execution_count": 4,
   "id": "ebac3454",
   "metadata": {},
   "outputs": [],
   "source": [
    "url = 'https://www.mygov.in/covid-19'\n",
    "page = requests.get(url)\n",
    "soup = BeautifulSoup(page.text, 'html.parser')"
   ]
  },
  {
   "cell_type": "code",
   "execution_count": 5,
   "id": "9977a821",
   "metadata": {},
   "outputs": [],
   "source": [
    "# Get all state names\n",
    "st_name = soup.find_all('span', class_ = \"st_name\")\n",
    "\n",
    "states_today = []\n",
    "for name in range(len(st_name)):\n",
    "    states_text = st_name[name].text\n",
    "    states_today.append(states_text)"
   ]
  },
  {
   "cell_type": "code",
   "execution_count": 6,
   "id": "7528ec8c",
   "metadata": {},
   "outputs": [],
   "source": [
    "# Get total number of cases for different states\n",
    "st_number = soup.find_all('span', class_ = \"st_number\")\n",
    "total_cases_today = []\n",
    "\n",
    "for number in range(len(st_number)):\n",
    "    cases_text = st_number[number].text\n",
    "    cases_num = int(cases_text.replace(',', ''))\n",
    "    total_cases_today.append(cases_num)\n",
    "    \n",
    "    \n"
   ]
  },
  {
   "cell_type": "code",
   "execution_count": 7,
   "id": "aa68a4a0",
   "metadata": {},
   "outputs": [
    {
     "name": "stdout",
     "output_type": "stream",
     "text": [
      "101\n"
     ]
    }
   ],
   "source": [
    "loop_count = int(len(total_cases_prev) / len(total_cases_today))\n",
    "print(loop_count)"
   ]
  },
  {
   "cell_type": "code",
   "execution_count": 8,
   "id": "9daccbd0",
   "metadata": {},
   "outputs": [],
   "source": [
    "# Get final records for Total Cases\n",
    "total_cases_final = []\n",
    "total_today = iter(total_cases_today)\n",
    "total_yesterday = iter(total_cases_prev)\n",
    "\n",
    "for counter in range(len(total_cases_today)):\n",
    "    for prev_count in range(loop_count):\n",
    "        total_cases_final.append(next(total_yesterday))\n",
    "    total_cases_final.append(next(total_today))"
   ]
  },
  {
   "cell_type": "code",
   "execution_count": 9,
   "id": "ee21e247",
   "metadata": {},
   "outputs": [],
   "source": [
    "tick_active = soup.find_all('div', class_ = \"tick-active\")\n",
    "\n",
    "active_cases_today = []\n",
    "for number in range(len(tick_active)):\n",
    "    active_text = tick_active[number].text\n",
    "    active_text = active_text.replace('Active ','')\n",
    "    active_num  = int(active_text.replace(',', ''))\n",
    "    active_cases_today.append(active_num)"
   ]
  },
  {
   "cell_type": "code",
   "execution_count": 10,
   "id": "9387f34f",
   "metadata": {},
   "outputs": [],
   "source": [
    "# Get final records for Active Cases\n",
    "active_cases_final = []\n",
    "today = iter(active_cases_today)\n",
    "yesterday = iter(active_cases_prev)\n",
    "\n",
    "for counter in range(len(active_cases_today)):\n",
    "    for prev_count in range(loop_count):\n",
    "        active_cases_final.append(next(yesterday))\n",
    "    active_cases_final.append(next(today))\n"
   ]
  },
  {
   "cell_type": "code",
   "execution_count": 11,
   "id": "43417307",
   "metadata": {},
   "outputs": [],
   "source": [
    "# Get total discharged cases for different states\n",
    "tick_discharged = soup.find_all('div', class_ = \"tick-discharged\")\n",
    "\n",
    "discharged_cases_today = []\n",
    "for number in range(len(tick_discharged)):\n",
    "    discharged_text = tick_discharged[number].text\n",
    "    discharged_text = discharged_text.replace('Discharged ','')\n",
    "    discharged_num  = int(discharged_text.replace(',', ''))\n",
    "    discharged_cases_today.append(discharged_num)\n",
    "    "
   ]
  },
  {
   "cell_type": "code",
   "execution_count": 12,
   "id": "e43148f4",
   "metadata": {},
   "outputs": [],
   "source": [
    "# Get final records for Discharged Cases\n",
    "discharged_cases_final = []\n",
    "today = iter(discharged_cases_today)\n",
    "yesterday = iter(discharged_cases_prev)\n",
    "\n",
    "for counter in range(len(discharged_cases_today)):\n",
    "    for prev_count in range(loop_count):\n",
    "        discharged_cases_final.append(next(yesterday))\n",
    "    discharged_cases_final.append(next(today))\n"
   ]
  },
  {
   "cell_type": "code",
   "execution_count": 13,
   "id": "59b68e93",
   "metadata": {},
   "outputs": [],
   "source": [
    "# Get total death for different states\n",
    "tick_death = soup.find_all('div', class_ = \"tick-death\")\n",
    "\n",
    "death_cases_today = []\n",
    "for number in range(len(tick_death)):\n",
    "    death_text = tick_death[number].text\n",
    "    death_text = death_text.replace('Deaths ','')\n",
    "    death_num  = int(death_text.replace(',', ''))\n",
    "    death_cases_today.append(death_num)"
   ]
  },
  {
   "cell_type": "code",
   "execution_count": 14,
   "id": "23859c37",
   "metadata": {},
   "outputs": [],
   "source": [
    "# Get final records for Detath Cases\n",
    "death_cases_final = []\n",
    "today = iter(death_cases_today)\n",
    "yesterday = iter(death_cases_prev)\n",
    "\n",
    "for counter in range(len(death_cases_today)):\n",
    "    for prev_count in range(loop_count):\n",
    "        death_cases_final.append(next(yesterday))\n",
    "    death_cases_final.append(next(today))\n"
   ]
  },
  {
   "cell_type": "code",
   "execution_count": 15,
   "id": "0003f6c6",
   "metadata": {},
   "outputs": [],
   "source": [
    "total_inc_today = []\n",
    "for number in range(len(total_cases_today)):\n",
    "    prev = loop_count * (number + 1) - 1\n",
    "    increased_totalcases = total_cases_today[number] - total_cases_prev[prev]\n",
    "    total_inc_today.append(increased_totalcases)\n"
   ]
  },
  {
   "cell_type": "code",
   "execution_count": 16,
   "id": "15b7ded9",
   "metadata": {},
   "outputs": [],
   "source": [
    "# Get final records for Total Increase\n",
    "total_inc_final = []\n",
    "today = iter(total_inc_today)\n",
    "yesterday = iter(total_inc_prev)\n",
    "\n",
    "for counter in range(len(total_inc_today)):\n",
    "    for prev_count in range(loop_count):\n",
    "        total_inc_final.append(next(yesterday))\n",
    "    total_inc_final.append(next(today))\n"
   ]
  },
  {
   "cell_type": "code",
   "execution_count": 17,
   "id": "46f735c0",
   "metadata": {},
   "outputs": [],
   "source": [
    "active_inc_today = []\n",
    "for number in range(len(active_cases_today)):\n",
    "    prev = loop_count * (number + 1) - 1\n",
    "    increased_active = active_cases_today[number] - active_cases_prev[prev]\n",
    "    active_inc_today.append(increased_active)"
   ]
  },
  {
   "cell_type": "code",
   "execution_count": 18,
   "id": "d57e1e2d",
   "metadata": {},
   "outputs": [],
   "source": [
    "# Get final records for Active increase\n",
    "active_inc_final = []\n",
    "today = iter(active_inc_today)\n",
    "yesterday = iter(active_inc_prev)\n",
    "\n",
    "for counter in range(len(active_inc_today)):\n",
    "    for prev_count in range(loop_count):\n",
    "        active_inc_final.append(next(yesterday))\n",
    "    active_inc_final.append(next(today))\n"
   ]
  },
  {
   "cell_type": "code",
   "execution_count": 19,
   "id": "395a1f04",
   "metadata": {},
   "outputs": [],
   "source": [
    "discharged_inc_today = []\n",
    "for number in range(len(discharged_cases_today)):\n",
    "    prev = loop_count * (number + 1) - 1\n",
    "    increased_discharged = discharged_cases_today[number] - discharged_cases_prev[prev]\n",
    "    discharged_inc_today.append(increased_discharged)"
   ]
  },
  {
   "cell_type": "code",
   "execution_count": 20,
   "id": "8b3b74d1",
   "metadata": {},
   "outputs": [],
   "source": [
    "# Get final records for Discharged increase\n",
    "discharged_inc_final = []\n",
    "today = iter(discharged_inc_today)\n",
    "yesterday = iter(discharged_inc_prev)\n",
    "\n",
    "for counter in range(len(discharged_inc_today)):\n",
    "    for prev_count in range(loop_count):\n",
    "        discharged_inc_final.append(next(yesterday))\n",
    "    discharged_inc_final.append(next(today))\n"
   ]
  },
  {
   "cell_type": "code",
   "execution_count": 21,
   "id": "1577c7f5",
   "metadata": {},
   "outputs": [],
   "source": [
    "death_inc_today = []\n",
    "for number in range(len(death_cases_today)):\n",
    "    prev = loop_count * (number + 1) - 1\n",
    "    increased_death = death_cases_today[number] - death_cases_prev[prev]\n",
    "    death_inc_today.append(increased_death)\n"
   ]
  },
  {
   "cell_type": "code",
   "execution_count": 22,
   "id": "db05cbc1",
   "metadata": {},
   "outputs": [],
   "source": [
    "# Get final records for death increase\n",
    "death_inc_final = []\n",
    "today = iter(death_inc_today)\n",
    "yesterday = iter(death_inc_prev)\n",
    "\n",
    "for counter in range(len(death_inc_today)):\n",
    "    for prev_count in range(loop_count):\n",
    "        death_inc_final.append(next(yesterday))\n",
    "    death_inc_final.append(next(today))\n"
   ]
  },
  {
   "cell_type": "code",
   "execution_count": 23,
   "id": "260ef172",
   "metadata": {},
   "outputs": [],
   "source": [
    "# Get final records for State names\n",
    "states_final = []\n",
    "total_today = iter(states_today)\n",
    "total_yesterday = iter(states_prev)\n",
    "\n",
    "for counter in range(len(states_today)):\n",
    "    for prev_count in range(loop_count):\n",
    "        states_final.append(next(total_yesterday))\n",
    "    states_final.append(next(total_today))\n",
    "    \n",
    "    \n",
    "# Get final records for Date\n",
    "#Get current date\n",
    "today = date.today()\n",
    "date_today = today.strftime(\"%d-%b-%Y\")\n",
    "\n",
    "date_final = []\n",
    "#date_today = iter(d1_today)\n",
    "date_yesterday = iter(date_prev)\n",
    "\n",
    "for counter in range(len(states_today)):\n",
    "    for prev_count in range(loop_count):\n",
    "        date_final.append(next(date_yesterday))\n",
    "    date_final.append(date_today)"
   ]
  },
  {
   "cell_type": "code",
   "execution_count": null,
   "id": "5b748c80",
   "metadata": {},
   "outputs": [],
   "source": []
  },
  {
   "cell_type": "code",
   "execution_count": 24,
   "id": "5792be39",
   "metadata": {},
   "outputs": [],
   "source": [
    "#Insert rows in excel file CovidData\n",
    "df = pd.DataFrame()\n",
    "df['St. Name'] = states_final\n",
    "df['Date'] = date_final\n",
    "df['Total Cases'] = total_cases_final\n",
    "df['Total Inc'] = total_inc_final\n",
    "df['Active Cases'] = active_cases_final\n",
    "df['Active Inc'] = active_inc_final\n",
    "df['Discharged Cases'] = discharged_cases_final\n",
    "df['Discharged Inc'] = discharged_inc_final\n",
    "df['Death'] = death_cases_final\n",
    "df['Death Inc'] = death_inc_final\n",
    "\n",
    "#File name\n",
    "file_today = 'Covid_Data_' + date.today().strftime(\"%b-%d-%Y\") + '.xlsx'\n",
    "\n",
    "#df.to_excel(file_name, index = False)\n",
    "df.to_excel(file_today, index = False)"
   ]
  },
  {
   "cell_type": "code",
   "execution_count": 25,
   "id": "2b8b6801",
   "metadata": {},
   "outputs": [],
   "source": [
    "#File name for final\n",
    "file_final = 'Covid_Data_Final.xlsx'\n",
    "\n",
    "#df.to_excel(file_name, index = False)\n",
    "df.to_excel(file_final, index = False)"
   ]
  }
 ],
 "metadata": {
  "kernelspec": {
   "display_name": "Python 3",
   "language": "python",
   "name": "python3"
  },
  "language_info": {
   "codemirror_mode": {
    "name": "ipython",
    "version": 3
   },
   "file_extension": ".py",
   "mimetype": "text/x-python",
   "name": "python",
   "nbconvert_exporter": "python",
   "pygments_lexer": "ipython3",
   "version": "3.8.8"
  }
 },
 "nbformat": 4,
 "nbformat_minor": 5
}
